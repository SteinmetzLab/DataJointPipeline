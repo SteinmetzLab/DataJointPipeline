{
 "cells": [
  {
   "cell_type": "code",
   "execution_count": null,
   "metadata": {},
   "outputs": [],
   "source": [
    "# This code file will run the ingest scripts\n",
    "# 1 - Insert all the raw json from the database\n",
    "# 2 - Convert these into datajoint tables\n",
    "# 3 - Eventually, run automated scripts to do basic analyses"
   ]
  },
  {
   "cell_type": "code",
   "execution_count": 9,
   "metadata": {},
   "outputs": [],
   "source": [
    "import datajoint as dj\n",
    "import json\n",
    "import math\n",
    "import collections\n",
    "import os.path as path"
   ]
  },
  {
   "cell_type": "code",
   "execution_count": 35,
   "metadata": {},
   "outputs": [],
   "source": [
    "# Connect to the datajoint server\n",
    "with open('.env','r') as cid:\n",
    "    for line in cid:\n",
    "        key,val = line.partition('=')[::2]\n",
    "        dj.config[key] = val.rstrip('\\n')"
   ]
  },
  {
   "cell_type": "code",
   "execution_count": 14,
   "metadata": {},
   "outputs": [],
   "source": [
    "# Load the json file\n",
    "with open('data/alyx_full.json','r') as fid:\n",
    "    keys = json.load(fid)\n",
    "# remove invalid uuid from unused tables\n",
    "keys = [key for key in keys\n",
    "        if key['model'] not in\n",
    "        ['auth.group', 'sessions.session', 'authtoken.token']]\n"
   ]
  },
  {
   "cell_type": "code",
   "execution_count": 38,
   "metadata": {},
   "outputs": [],
   "source": [
    "# Generate a raw schema\n",
    "\n",
    "schema = dj.schema('testing_alyxraw')\n",
    "\n",
    "@schema\n",
    "class AlyxRaw(dj.Manual):\n",
    "    definition = '''\n",
    "    uuid: uuid  # pk field (uuid string repr)\n",
    "    ---\n",
    "    model: varchar(255)  # alyx 'model'\n",
    "    '''\n",
    "\n",
    "    class Field(dj.Part):\n",
    "        definition = '''\n",
    "        -> master\n",
    "        fname: varchar(255)  # field name\n",
    "        value_idx: tinyint\n",
    "        ---\n",
    "        fvalue=null: varchar(40000)  # field value in the position of value_idx\n",
    "        index (fname)\n",
    "        '''\n"
   ]
  },
  {
   "cell_type": "code",
   "execution_count": 39,
   "metadata": {},
   "outputs": [],
   "source": [
    "alyxraw = AlyxRaw()"
   ]
  },
  {
   "cell_type": "code",
   "execution_count": null,
   "metadata": {},
   "outputs": [],
   "source": []
  }
 ],
 "metadata": {
  "kernelspec": {
   "display_name": "Python 3",
   "language": "python",
   "name": "python3"
  },
  "language_info": {
   "codemirror_mode": {
    "name": "ipython",
    "version": 3
   },
   "file_extension": ".py",
   "mimetype": "text/x-python",
   "name": "python",
   "nbconvert_exporter": "python",
   "pygments_lexer": "ipython3",
   "version": "3.8.2"
  }
 },
 "nbformat": 4,
 "nbformat_minor": 4
}
